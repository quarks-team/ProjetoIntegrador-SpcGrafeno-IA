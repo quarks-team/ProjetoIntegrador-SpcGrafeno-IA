{
  "cells": [
    {
      "cell_type": "markdown",
      "metadata": {
        "id": "RPejNQpK8WUP"
      },
      "source": [
        "# Prepare the base"
      ]
    },
    {
      "cell_type": "markdown",
      "metadata": {
        "id": "ZdxZVeXYyciv"
      },
      "source": [
        "#### Import data and python libraries"
      ]
    },
    {
      "cell_type": "code",
      "execution_count": 300,
      "metadata": {
        "id": "GLaSHozGAoiL"
      },
      "outputs": [],
      "source": [
        "import pandas as pd\n",
        "import numpy as np\n",
        "from sklearn.preprocessing import OneHotEncoder"
      ]
    },
    {
      "cell_type": "code",
      "execution_count": 301,
      "metadata": {
        "id": "jWKTraQoA5N9"
      },
      "outputs": [],
      "source": [
        "base = pd.read_excel('/content/sample_data/table.xlsx', sheet_name = 'Planilha1')"
      ]
    },
    {
      "cell_type": "markdown",
      "metadata": {
        "id": "WjrQpAdgy4jP"
      },
      "source": [
        "#### Transform data"
      ]
    },
    {
      "cell_type": "code",
      "execution_count": 348,
      "metadata": {
        "id": "gwBxhtaScwAU"
      },
      "outputs": [],
      "source": [
        "base_test = base"
      ]
    },
    {
      "cell_type": "code",
      "execution_count": 349,
      "metadata": {
        "id": "KSjgs2VMjbkI"
      },
      "outputs": [],
      "source": [
        "base_test['a'] = (base_test.iloc[:,8] - base_test.iloc[:,9]).dt.days\n",
        "base_test = base_test[[base_test.iloc[:,18].name, base_test.iloc[:,4].name, base_test.iloc[:,5].name, base_test.iloc[:,19].name, base_test.iloc[:,16].name]]\n",
        "base_test.iloc[:,4] =  base_test.iloc[:,4].fillna('not canceled')\n",
        "base_test = pd.get_dummies(base_test, columns = [base_test.iloc[:,1].name],dtype=int)"
      ]
    },
    {
      "cell_type": "code",
      "execution_count": 350,
      "metadata": {
        "id": "8j65PjiVwwze"
      },
      "outputs": [],
      "source": [
        "# Separate the column for one hot\n",
        "categorical_attributes = [base_test.iloc[:,1].name]\n",
        "categorical_columns = base_test[categorical_attributes]\n",
        "# instance and train OneHotEncoder\n",
        "encoder = OneHotEncoder(handle_unknown='ignore')\n",
        "encoder.fit(categorical_columns)\n",
        "# Codify the categorical columns and transform in a dataframe\n",
        "encoded = encoder.transform(categorical_columns).toarray()\n",
        "enc_train = pd.DataFrame(data = encoded, columns = encoder.categories_)\n",
        "# Concat with the original dataframe and drop original column\n",
        "base_test = pd.concat([base_test,enc_train],axis=1)\n",
        "base_test.drop(categorical_attributes, axis=1, inplace=True)"
      ]
    },
    {
      "cell_type": "code",
      "execution_count": 351,
      "metadata": {
        "id": "l6WLmiBUdQwe"
      },
      "outputs": [],
      "source": [
        "# Separate the column for one hot\n",
        "categorical_attributes = [base_test.iloc[:,2].name]\n",
        "categorical_columns = base_test[categorical_attributes]\n",
        "# instance and train OneHotEncoder\n",
        "encoder = OneHotEncoder(handle_unknown='ignore')\n",
        "encoder.fit(categorical_columns)\n",
        "# Codify the categorical columns and transform in a dataframe\n",
        "encoded = encoder.transform(categorical_columns).toarray()\n",
        "enc_train = pd.DataFrame(data = encoded, columns = encoder.categories_)\n",
        "# Concat with the original dataframe and drop original column\n",
        "base_test = pd.concat([base_test,enc_train],axis=1)\n",
        "base_test.drop(categorical_attributes, axis=1, inplace=True)\n"
      ]
    },
    {
      "cell_type": "code",
      "execution_count": 352,
      "metadata": {
        "id": "V3YpvvGcz88C"
      },
      "outputs": [],
      "source": [
        "base_test = base_test.rename(columns={ base_test.iloc[:,4].name: str(base_test.iloc[:,4].name)[2:-3], base_test.iloc[:,5].name: str(base_test.iloc[:,5].name)[2:-3],base_test.iloc[:,6].name: str(base_test.iloc[:,6].name)[2:-3], base_test.iloc[:,7].name: str(base_test.iloc[:,7].name)[2:-3], base_test.iloc[:,8].name: str(base_test.iloc[:,8].name)[2:-3], base_test.iloc[:,9].name: str(base_test.iloc[:,9].name)[2:-3], base_test.iloc[:,10].name: str(base_test.iloc[:,10].name)[2:-3]})"
      ]
    },
    {
      "cell_type": "code",
      "execution_count": 353,
      "metadata": {
        "id": "bjvNR6laE2do"
      },
      "outputs": [],
      "source": [
        "function_dictionary = {base_test.iloc[:,1].name:'mean',base_test.iloc[:,2].name:'sum',base_test.iloc[:,3].name:'sum', base_test.iloc[:,4].name:'sum', base_test.iloc[:,5].name:'sum', base_test.iloc[:,6].name: 'sum', base_test.iloc[:,7].name: 'sum', base_test.iloc[:,8].name: 'sum',\tbase_test.iloc[:,9].name: 'sum',\tbase_test.iloc[:,10].name: 'sum'}\n",
        "# base_crazy = base_test\n",
        "base_test = base_test.groupby(base_test.iloc[:,0].name).aggregate(function_dictionary).reset_index(0)"
      ]
    },
    {
      "cell_type": "code",
      "execution_count": 354,
      "metadata": {
        "id": "Wq_Yx8cdHo_M"
      },
      "outputs": [],
      "source": [
        "base_nfe = base"
      ]
    },
    {
      "cell_type": "code",
      "execution_count": 355,
      "metadata": {
        "id": "F_fB7XQ0IVc_"
      },
      "outputs": [],
      "source": [
        "base_nfe = base_nfe.groupby([base_nfe.iloc[:,18].name, base_nfe.iloc[:,2].name]).agg({base_nfe.iloc[:,0].name: pd.Series.nunique}).reset_index(0)"
      ]
    },
    {
      "cell_type": "code",
      "execution_count": 356,
      "metadata": {
        "id": "vHovsVXugjQ3"
      },
      "outputs": [],
      "source": [
        "base_nfe = base_nfe.reset_index(0)"
      ]
    },
    {
      "cell_type": "code",
      "execution_count": 357,
      "metadata": {
        "id": "OYiIsf1Yg2cW"
      },
      "outputs": [],
      "source": [
        "base_nfe = base_nfe.groupby(base_nfe.iloc[:,1].name).agg({base_nfe.iloc[:,2].name: 'median'}).reset_index(0)"
      ]
    },
    {
      "cell_type": "code",
      "execution_count": 358,
      "metadata": {
        "id": "B_AQMgrEg_t6"
      },
      "outputs": [],
      "source": [
        "base_test = base_test.set_index(base_nfe.iloc[:,0].name).join(base_nfe.set_index(base_nfe.iloc[:,0].name)).reset_index(0)"
      ]
    },
    {
      "cell_type": "code",
      "execution_count": 359,
      "metadata": {
        "id": "aRwvQuW1j_eK"
      },
      "outputs": [],
      "source": [
        "base_test = base_test.rename(columns={base_test.iloc[:,11].name: \"installment median\"})"
      ]
    },
    {
      "cell_type": "code",
      "execution_count": 360,
      "metadata": {
        "id": "_qPNV2z1keXA"
      },
      "outputs": [],
      "source": [
        "base_test.fillna(base_test[base_test.iloc[:,11].name].median(), inplace=True)"
      ]
    },
    {
      "cell_type": "code",
      "execution_count": 361,
      "metadata": {
        "id": "ttSlrYP3Sui6"
      },
      "outputs": [],
      "source": [
        "base_test['t'] = base_test.iloc[:,4] + base_test.iloc[:,5] + base_test.iloc[:,6]"
      ]
    },
    {
      "cell_type": "code",
      "execution_count": 362,
      "metadata": {
        "id": "uOPZhLqdvh8_"
      },
      "outputs": [],
      "source": [
        "base_test['pnc'] = base_test.iloc[:,7] / base_test.iloc[:,12]"
      ]
    },
    {
      "cell_type": "markdown",
      "metadata": {
        "id": "kNX_zPfz0Vdj"
      },
      "source": [
        "#### Create scoring"
      ]
    },
    {
      "cell_type": "code",
      "execution_count": 319,
      "metadata": {
        "id": "dALQLs8K0fQN"
      },
      "outputs": [],
      "source": [
        "base_test['score_f'] = np.where(\n",
        "    base_test.iloc[:,6] <= 5,(1000*base_test.iloc[:,6])/5,\n",
        "    np.where(\n",
        "        (base_test.iloc[:,6] > 5) & (base_test.iloc[:,6] <= 18),(3000*base_test.iloc[:,6])/18,\n",
        "    np.where(\n",
        "        (base_test.iloc[:,6] > 18) & (base_test.iloc[:,6] <= 30), (4999*base_test.iloc[:,6])/30,\n",
        "        5000\n",
        "    )\n",
        "        )\n",
        "    )"
      ]
    },
    {
      "cell_type": "code",
      "execution_count": 320,
      "metadata": {
        "id": "DPGs9_JC3lYz"
      },
      "outputs": [],
      "source": [
        "base_test['score_a'] = np.where(\n",
        "    base_test.iloc[:,4] <= 40,(600*base_test.iloc[:,4])/40,\n",
        "    np.where(\n",
        "        (base_test.iloc[:,4] > 40) & (base_test.iloc[:,4] <= 199),(1800*base_test.iloc[:,4])/199,\n",
        "    np.where(\n",
        "        (base_test.iloc[:,4] > 199) & (base_test.iloc[:,4] <= 484), (2999*base_test.iloc[:,4])/484,\n",
        "        3000\n",
        "    )\n",
        "        )\n",
        "    )"
      ]
    },
    {
      "cell_type": "code",
      "execution_count": 321,
      "metadata": {
        "id": "fTJG9xOw5Q4q"
      },
      "outputs": [],
      "source": [
        "base_test['score_t'] = np.where(\n",
        "    base_test.iloc[:,12] <= 40,(400*base_test.iloc[:,12])/40,\n",
        "    np.where(\n",
        "        (base_test.iloc[:,12] > 40) & (base_test.iloc[:,12] <= 100),(1200*base_test.iloc[:,12])/100,\n",
        "    np.where(\n",
        "        (base_test.iloc[:,12] > 100) & (base_test.iloc[:,12] <= 200), (1999*base_test.iloc[:,12])/200,\n",
        "        2000\n",
        "    )\n",
        "        )\n",
        "    )"
      ]
    },
    {
      "cell_type": "code",
      "execution_count": 322,
      "metadata": {
        "id": "62Kl2DL07s0P"
      },
      "outputs": [],
      "source": [
        "base_test['score_c'] = np.where(\n",
        "    base_test.iloc[:,5] <= 13,(200*base_test.iloc[:,5])/13,\n",
        "    np.where(\n",
        "        (base_test.iloc[:,5] > 13) & (base_test.iloc[:,5] <= 35),(600*base_test.iloc[:,5])/35,\n",
        "    np.where(\n",
        "        (base_test.iloc[:,5] > 35) & (base_test.iloc[:,5] <= 65), (999*base_test.iloc[:,5])/65,\n",
        "        1000\n",
        "    )\n",
        "        )\n",
        "    )"
      ]
    },
    {
      "cell_type": "code",
      "source": [
        "base_test.iloc[:,17]"
      ],
      "metadata": {
        "colab": {
          "base_uri": "https://localhost:8080/",
          "height": 458
        },
        "id": "And1oz-pwy38",
        "outputId": "c76a6a39-ebfb-491a-c18c-94e79b0bb34c"
      },
      "execution_count": 323,
      "outputs": [
        {
          "output_type": "execute_result",
          "data": {
            "text/plain": [
              "0       0.000000\n",
              "1       0.000000\n",
              "2      30.769231\n",
              "3       0.000000\n",
              "4       0.000000\n",
              "         ...    \n",
              "604     0.000000\n",
              "605     0.000000\n",
              "606     0.000000\n",
              "607     0.000000\n",
              "608     0.000000\n",
              "Name: score_c, Length: 609, dtype: float64"
            ],
            "text/html": [
              "<div>\n",
              "<style scoped>\n",
              "    .dataframe tbody tr th:only-of-type {\n",
              "        vertical-align: middle;\n",
              "    }\n",
              "\n",
              "    .dataframe tbody tr th {\n",
              "        vertical-align: top;\n",
              "    }\n",
              "\n",
              "    .dataframe thead th {\n",
              "        text-align: right;\n",
              "    }\n",
              "</style>\n",
              "<table border=\"1\" class=\"dataframe\">\n",
              "  <thead>\n",
              "    <tr style=\"text-align: right;\">\n",
              "      <th></th>\n",
              "      <th>score_c</th>\n",
              "    </tr>\n",
              "  </thead>\n",
              "  <tbody>\n",
              "    <tr>\n",
              "      <th>0</th>\n",
              "      <td>0.000000</td>\n",
              "    </tr>\n",
              "    <tr>\n",
              "      <th>1</th>\n",
              "      <td>0.000000</td>\n",
              "    </tr>\n",
              "    <tr>\n",
              "      <th>2</th>\n",
              "      <td>30.769231</td>\n",
              "    </tr>\n",
              "    <tr>\n",
              "      <th>3</th>\n",
              "      <td>0.000000</td>\n",
              "    </tr>\n",
              "    <tr>\n",
              "      <th>4</th>\n",
              "      <td>0.000000</td>\n",
              "    </tr>\n",
              "    <tr>\n",
              "      <th>...</th>\n",
              "      <td>...</td>\n",
              "    </tr>\n",
              "    <tr>\n",
              "      <th>604</th>\n",
              "      <td>0.000000</td>\n",
              "    </tr>\n",
              "    <tr>\n",
              "      <th>605</th>\n",
              "      <td>0.000000</td>\n",
              "    </tr>\n",
              "    <tr>\n",
              "      <th>606</th>\n",
              "      <td>0.000000</td>\n",
              "    </tr>\n",
              "    <tr>\n",
              "      <th>607</th>\n",
              "      <td>0.000000</td>\n",
              "    </tr>\n",
              "    <tr>\n",
              "      <th>608</th>\n",
              "      <td>0.000000</td>\n",
              "    </tr>\n",
              "  </tbody>\n",
              "</table>\n",
              "<p>609 rows × 1 columns</p>\n",
              "</div><br><label><b>dtype:</b> float64</label>"
            ]
          },
          "metadata": {},
          "execution_count": 323
        }
      ]
    },
    {
      "cell_type": "code",
      "execution_count": 324,
      "metadata": {
        "id": "LGlPl62x8wnV"
      },
      "outputs": [],
      "source": [
        "base_test['s'] = base_test.iloc[:,14] + base_test.iloc[:,15] + base_test.iloc[:,16] - base_test.iloc[:,17]"
      ]
    },
    {
      "cell_type": "markdown",
      "metadata": {
        "id": "XgimSfYWJPou"
      },
      "source": [
        "# IA - MODEL Nº1\n"
      ]
    },
    {
      "cell_type": "code",
      "execution_count": 336,
      "metadata": {
        "id": "cBezDNJR_PLf"
      },
      "outputs": [],
      "source": [
        "from sklearn.model_selection import train_test_split\n",
        "from sklearn.model_selection import train_test_split, cross_val_score # Utilizado para separar dados de treino e teste\n",
        "from sklearn.preprocessing import StandardScaler # Utilizado para fazer a normalização dos dados\n",
        "from sklearn.preprocessing import MinMaxScaler # Utilizado para fazer a normalização dos dados\n",
        "from sklearn.preprocessing import LabelEncoder # Utilizado para fazer o OneHotEncoding\n",
        "from sklearn.linear_model import LinearRegression # Algoritmo de Regressão Linear\n",
        "from sklearn.metrics import r2_score, accuracy_score,confusion_matrix, ConfusionMatrixDisplay # Métricas de avaliação do models\n",
        "from sklearn.tree import DecisionTreeClassifier\n",
        "import graphviz\n",
        "from sklearn import tree"
      ]
    },
    {
      "cell_type": "code",
      "execution_count": 337,
      "metadata": {
        "id": "mh3RDXIcZRVy"
      },
      "outputs": [],
      "source": [
        "# Separate data for use\n",
        "base_model = base_test[[base_test.iloc[:,1].name,\tbase_test.iloc[:,2].name,\tbase_test.iloc[:,3].name,base_test.iloc[:,4].name,\tbase_test.iloc[:,5].name,\tbase_test.iloc[:,6].name,\tbase_test.iloc[:,7].name,\tbase_test.iloc[:,11].name,\tbase_test.iloc[:,12].name,base_test.iloc[:,18].name]]\n",
        "base_model = base_model[base_test.iloc[:,8] <= 1000]\n"
      ]
    },
    {
      "cell_type": "code",
      "execution_count": 339,
      "metadata": {
        "id": "85r1QT9XbD02"
      },
      "outputs": [],
      "source": [
        "X = base_model.loc[ : , base_model.columns != base_model.iloc[:,9].name]\n",
        "y = base_model.iloc[:,9]"
      ]
    },
    {
      "cell_type": "code",
      "execution_count": 340,
      "metadata": {
        "id": "bEKRUud7cPTL"
      },
      "outputs": [],
      "source": [
        "X_train, X_test, y_train, y_test = train_test_split(X, y, test_size=0.2, random_state=1)"
      ]
    },
    {
      "cell_type": "code",
      "execution_count": 341,
      "metadata": {
        "id": "VCRKKwUJgW0E"
      },
      "outputs": [],
      "source": [
        "# Normalization\n",
        "sc = MinMaxScaler()\n",
        "X_train = sc.fit_transform(X_train)\n",
        "X_test = sc.transform(X_test)"
      ]
    },
    {
      "cell_type": "code",
      "source": [
        "X_train"
      ],
      "metadata": {
        "colab": {
          "base_uri": "https://localhost:8080/"
        },
        "id": "aDpGmYCMmNT4",
        "outputId": "026b4fcf-cb90-4e7e-dd0d-dd27f17a9529"
      },
      "execution_count": 342,
      "outputs": [
        {
          "output_type": "execute_result",
          "data": {
            "text/plain": [
              "array([[0.05445966, 0.00727273, 0.        , ..., 0.00727273, 0.        ,\n",
              "        0.00655022],\n",
              "       [0.0591003 , 0.00290909, 0.        , ..., 0.00290909, 0.04651163,\n",
              "        0.00218341],\n",
              "       [0.05638731, 0.00581818, 0.        , ..., 0.00581818, 0.02325581,\n",
              "        0.00509461],\n",
              "       ...,\n",
              "       [0.05428164, 0.056     , 0.        , ..., 0.056     , 0.        ,\n",
              "        0.05531295],\n",
              "       [0.0587462 , 0.14472727, 0.        , ..., 0.11854545, 0.04651163,\n",
              "        0.1441048 ],\n",
              "       [0.06375835, 0.02981818, 0.        , ..., 0.02981818, 0.09302326,\n",
              "        0.02911208]])"
            ]
          },
          "metadata": {},
          "execution_count": 342
        }
      ]
    },
    {
      "cell_type": "code",
      "execution_count": 343,
      "metadata": {
        "id": "f3td0telgeeD"
      },
      "outputs": [],
      "source": [
        "# Treina o modelo\n",
        "model = LinearRegression()\n",
        "model = model.fit(X_train, y_train)"
      ]
    },
    {
      "cell_type": "code",
      "execution_count": 344,
      "metadata": {
        "colab": {
          "base_uri": "https://localhost:8080/"
        },
        "id": "d9bRjerFmPJx",
        "outputId": "93471be3-3978-4cb1-c390-f28fae6a602b"
      },
      "outputs": [
        {
          "output_type": "execute_result",
          "data": {
            "text/plain": [
              "0.7587872477117485"
            ]
          },
          "metadata": {},
          "execution_count": 344
        }
      ],
      "source": [
        "# Accuracy\n",
        "r2_score(y_test, model.fit(X_train, y_train).predict(X_test))"
      ]
    },
    {
      "cell_type": "code",
      "execution_count": 345,
      "metadata": {
        "colab": {
          "base_uri": "https://localhost:8080/"
        },
        "id": "a8qvAdNAn1KH",
        "outputId": "ab0a4b1a-9073-49a6-c7f9-fc1a64afebdd"
      },
      "outputs": [
        {
          "output_type": "stream",
          "name": "stdout",
          "text": [
            "MAE: 430.2382487137543\n",
            "MSE: 564197.1086312056\n",
            "RMSE: 751.1305536530954\n",
            "R²: 0.7587872477117485\n"
          ]
        }
      ],
      "source": [
        "from sklearn.metrics import mean_absolute_error, mean_squared_error, r2_score\n",
        "# Previsões\n",
        "y_pred = model.predict(X_test)\n",
        "\n",
        "# Cálculo das métricas\n",
        "mae = mean_absolute_error(y_test, y_pred)\n",
        "mse = mean_squared_error(y_test, y_pred)\n",
        "rmse = np.sqrt(mse)\n",
        "r2 = r2_score(y_test, y_pred)\n",
        "\n",
        "# Exibição dos resultados\n",
        "print(f'MAE: {mae}')\n",
        "print(f'MSE: {mse}')\n",
        "print(f'RMSE: {rmse}')\n",
        "print(f'R²: {r2}')"
      ]
    },
    {
      "cell_type": "code",
      "execution_count": 346,
      "metadata": {
        "colab": {
          "base_uri": "https://localhost:8080/"
        },
        "id": "MpO-TrrTqWLW",
        "outputId": "46c88782-93c7-4c31-eafd-0db645d6aa61"
      },
      "outputs": [
        {
          "output_type": "stream",
          "name": "stdout",
          "text": [
            "Score do endossante: [15783.26784349]\n"
          ]
        },
        {
          "output_type": "stream",
          "name": "stderr",
          "text": [
            "/usr/local/lib/python3.10/dist-packages/sklearn/base.py:493: UserWarning: X does not have valid feature names, but MinMaxScaler was fitted with feature names\n",
            "  warnings.warn(\n"
          ]
        }
      ],
      "source": [
        "# Try to predict score\n",
        "v1 = 0\n",
        "v2 = 520\n",
        "v3 = 19\n",
        "v4 = 471\n",
        "v5 = 0\n",
        "v6 = 68\n",
        "v7 = 539\n",
        "v8 = 0\n",
        "v9 = 539\n",
        "\n",
        "new_test = [v1,v2,v3,v4,v5,v6,v7,v8,v9]\n",
        "\n",
        "\n",
        "X = np.array(new_test).reshape(1,-1)\n",
        "X = sc.transform(X)\n",
        "print(\"Score do endossante:\", model.predict(X))"
      ]
    },
    {
      "cell_type": "code",
      "execution_count": 347,
      "metadata": {
        "colab": {
          "base_uri": "https://localhost:8080/"
        },
        "id": "igpBiodguWZN",
        "outputId": "b54c8931-255e-40ec-98a2-7a5f4af1c41c"
      },
      "outputs": [
        {
          "output_type": "stream",
          "name": "stdout",
          "text": [
            "[  41.19053505 2329.52172654  616.95232748 2321.31436863 -404.47927044\n",
            " 4689.81556731 2413.40529249  728.99534775 2378.36416912]\n",
            "Intercepto: 338.7041803434835\n"
          ]
        }
      ],
      "source": [
        "pesos = model.coef_\n",
        "intercepto = model.intercept_\n",
        "print( pesos)\n",
        "print(\"Intercepto:\", intercepto)"
      ]
    }
  ],
  "metadata": {
    "colab": {
      "collapsed_sections": [
        "ZdxZVeXYyciv",
        "WjrQpAdgy4jP",
        "kNX_zPfz0Vdj"
      ],
      "provenance": []
    },
    "kernelspec": {
      "display_name": "Python 3",
      "name": "python3"
    },
    "language_info": {
      "name": "python"
    }
  },
  "nbformat": 4,
  "nbformat_minor": 0
}
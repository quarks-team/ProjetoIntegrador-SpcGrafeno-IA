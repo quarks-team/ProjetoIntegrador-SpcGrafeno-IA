{
  "cells": [
    {
      "cell_type": "markdown",
      "metadata": {
        "id": "RPejNQpK8WUP"
      },
      "source": [
        "# Prepare the base"
      ]
    },
    {
      "cell_type": "markdown",
      "metadata": {
        "id": "ZdxZVeXYyciv"
      },
      "source": [
        "#### Import data and python libraries"
      ]
    },
    {
      "cell_type": "code",
      "execution_count": 300,
      "metadata": {
        "id": "GLaSHozGAoiL"
      },
      "outputs": [],
      "source": [
        "import pandas as pd\n",
        "import numpy as np\n",
        "from sklearn.preprocessing import OneHotEncoder"
      ]
    },
    {
      "cell_type": "code",
      "execution_count": 301,
      "metadata": {
        "id": "jWKTraQoA5N9"
      },
      "outputs": [],
      "source": [
        "base = pd.read_excel('/content/sample_data/table.xlsx', sheet_name = 'Planilha1')"
      ]
    },
    {
      "cell_type": "markdown",
      "metadata": {
        "id": "WjrQpAdgy4jP"
      },
      "source": [
        "#### Transform data"
      ]
    },
    {
      "cell_type": "code",
      "execution_count": 302,
      "metadata": {
        "id": "gwBxhtaScwAU"
      },
      "outputs": [],
      "source": [
        "base_test = base"
      ]
    },
    {
      "cell_type": "code",
      "execution_count": 303,
      "metadata": {
        "id": "KSjgs2VMjbkI"
      },
      "outputs": [],
      "source": [
        "base_test['a'] = (base_test.iloc[:,8] - base_test.iloc[:,9]).dt.days\n",
        "base_test = base_test[[base_test.iloc[:,18].name, base_test.iloc[:,4].name, base_test.iloc[:,5].name, base_test.iloc[:,19].name, base_test.iloc[:,16].name]]\n",
        "base_test.iloc[:,4] =  base_test.iloc[:,4].fillna('not canceled')\n",
        "base_test = pd.get_dummies(base_test, columns = [base_test.iloc[:,1].name],dtype=int)"
      ]
    },
    {
      "cell_type": "code",
      "execution_count": 304,
      "metadata": {
        "id": "8j65PjiVwwze"
      },
      "outputs": [],
      "source": [
        "# Separate the column for one hot\n",
        "categorical_attributes = [base_test.iloc[:,1].name]\n",
        "categorical_columns = base_test[categorical_attributes]\n",
        "# instance and train OneHotEncoder\n",
        "encoder = OneHotEncoder(handle_unknown='ignore')\n",
        "encoder.fit(categorical_columns)\n",
        "# Codify the categorical columns and transform in a dataframe\n",
        "encoded = encoder.transform(categorical_columns).toarray()\n",
        "enc_train = pd.DataFrame(data = encoded, columns = encoder.categories_)\n",
        "# Concat with the original dataframe and drop original column\n",
        "base_test = pd.concat([base_test,enc_train],axis=1)\n",
        "base_test.drop(categorical_attributes, axis=1, inplace=True)"
      ]
    },
    {
      "cell_type": "code",
      "execution_count": 305,
      "metadata": {
        "id": "l6WLmiBUdQwe"
      },
      "outputs": [],
      "source": [
        "# Separate the column for one hot\n",
        "categorical_attributes = [base_test.iloc[:,2].name]\n",
        "categorical_columns = base_test[categorical_attributes]\n",
        "# instance and train OneHotEncoder\n",
        "encoder = OneHotEncoder(handle_unknown='ignore')\n",
        "encoder.fit(categorical_columns)\n",
        "# Codify the categorical columns and transform in a dataframe\n",
        "encoded = encoder.transform(categorical_columns).toarray()\n",
        "enc_train = pd.DataFrame(data = encoded, columns = encoder.categories_)\n",
        "# Concat with the original dataframe and drop original column\n",
        "base_test = pd.concat([base_test,enc_train],axis=1)\n",
        "base_test.drop(categorical_attributes, axis=1, inplace=True)\n"
      ]
    },
    {
      "cell_type": "code",
      "execution_count": 306,
      "metadata": {
        "colab": {
          "base_uri": "https://localhost:8080/"
        },
        "id": "9B3ARMwByZNj",
        "outputId": "acfe7e09-a9b5-4dea-ea3d-43d8ac2de553"
      },
      "outputs": [
        {
          "output_type": "execute_result",
          "data": {
            "text/plain": [
              "Index([       'NOME_ENDOSSER',                    'a',           'kind_goods',\n",
              "              'kind_services',            ('active',),          ('canceled',),\n",
              "                ('finished',),      ('not canceled',), ('operational_error',),\n",
              "                  ('others',),          ('reversal',)],\n",
              "      dtype='object')"
            ]
          },
          "metadata": {},
          "execution_count": 306
        }
      ],
      "source": [
        "# Rename columns\n",
        "base_test.columns"
      ]
    },
    {
      "cell_type": "code",
      "execution_count": 307,
      "metadata": {
        "id": "V3YpvvGcz88C"
      },
      "outputs": [],
      "source": [
        "base_test = base_test.rename(columns={ base_test.iloc[:,4].name: str(base_test.iloc[:,4].name)[2:-3], base_test.iloc[:,5].name: str(base_test.iloc[:,5].name)[2:-3],base_test.iloc[:,6].name: str(base_test.iloc[:,6].name)[2:-3], base_test.iloc[:,7].name: str(base_test.iloc[:,7].name)[2:-3], base_test.iloc[:,8].name: str(base_test.iloc[:,8].name)[2:-3], base_test.iloc[:,9].name: str(base_test.iloc[:,9].name)[2:-3], base_test.iloc[:,10].name: str(base_test.iloc[:,10].name)[2:-3]})"
      ]
    },
    {
      "cell_type": "code",
      "execution_count": 308,
      "metadata": {
        "colab": {
          "base_uri": "https://localhost:8080/",
          "height": 429
        },
        "id": "Uzy9NNUt0lGA",
        "outputId": "6a6cda51-78c0-4ddd-ccf7-71ae30fe8436"
      },
      "outputs": [
        {
          "output_type": "execute_result",
          "data": {
            "text/plain": [
              "NOME_ENDOSSER        9553\n",
              "a                       0\n",
              "kind_goods              0\n",
              "kind_services           0\n",
              "active                  0\n",
              "canceled                0\n",
              "finished                0\n",
              "not canceled            0\n",
              "operational_error       0\n",
              "others                  0\n",
              "reversal                0\n",
              "dtype: int64"
            ],
            "text/html": [
              "<div>\n",
              "<style scoped>\n",
              "    .dataframe tbody tr th:only-of-type {\n",
              "        vertical-align: middle;\n",
              "    }\n",
              "\n",
              "    .dataframe tbody tr th {\n",
              "        vertical-align: top;\n",
              "    }\n",
              "\n",
              "    .dataframe thead th {\n",
              "        text-align: right;\n",
              "    }\n",
              "</style>\n",
              "<table border=\"1\" class=\"dataframe\">\n",
              "  <thead>\n",
              "    <tr style=\"text-align: right;\">\n",
              "      <th></th>\n",
              "      <th>0</th>\n",
              "    </tr>\n",
              "  </thead>\n",
              "  <tbody>\n",
              "    <tr>\n",
              "      <th>NOME_ENDOSSER</th>\n",
              "      <td>9553</td>\n",
              "    </tr>\n",
              "    <tr>\n",
              "      <th>a</th>\n",
              "      <td>0</td>\n",
              "    </tr>\n",
              "    <tr>\n",
              "      <th>kind_goods</th>\n",
              "      <td>0</td>\n",
              "    </tr>\n",
              "    <tr>\n",
              "      <th>kind_services</th>\n",
              "      <td>0</td>\n",
              "    </tr>\n",
              "    <tr>\n",
              "      <th>active</th>\n",
              "      <td>0</td>\n",
              "    </tr>\n",
              "    <tr>\n",
              "      <th>canceled</th>\n",
              "      <td>0</td>\n",
              "    </tr>\n",
              "    <tr>\n",
              "      <th>finished</th>\n",
              "      <td>0</td>\n",
              "    </tr>\n",
              "    <tr>\n",
              "      <th>not canceled</th>\n",
              "      <td>0</td>\n",
              "    </tr>\n",
              "    <tr>\n",
              "      <th>operational_error</th>\n",
              "      <td>0</td>\n",
              "    </tr>\n",
              "    <tr>\n",
              "      <th>others</th>\n",
              "      <td>0</td>\n",
              "    </tr>\n",
              "    <tr>\n",
              "      <th>reversal</th>\n",
              "      <td>0</td>\n",
              "    </tr>\n",
              "  </tbody>\n",
              "</table>\n",
              "</div><br><label><b>dtype:</b> int64</label>"
            ]
          },
          "metadata": {},
          "execution_count": 308
        }
      ],
      "source": [
        "base_test.isna().sum()"
      ]
    },
    {
      "cell_type": "code",
      "execution_count": 309,
      "metadata": {
        "id": "bjvNR6laE2do"
      },
      "outputs": [],
      "source": [
        "function_dictionary = {base_test.iloc[:,1].name:'mean',base_test.iloc[:,2].name:'sum',base_test.iloc[:,3].name:'sum', base_test.iloc[:,4].name:'sum', base_test.iloc[:,5].name:'sum', base_test.iloc[:,6].name: 'sum', base_test.iloc[:,7].name: 'sum', base_test.iloc[:,8].name: 'sum',\tbase_test.iloc[:,9].name: 'sum',\tbase_test.iloc[:,10].name: 'sum'}\n",
        "# base_crazy = base_test\n",
        "base_test = base_test.groupby(base_test.iloc[:,0].name).aggregate(function_dictionary).reset_index(0)"
      ]
    },
    {
      "cell_type": "code",
      "execution_count": 310,
      "metadata": {
        "id": "Wq_Yx8cdHo_M"
      },
      "outputs": [],
      "source": [
        "base_nfe = base"
      ]
    },
    {
      "cell_type": "code",
      "execution_count": 311,
      "metadata": {
        "id": "F_fB7XQ0IVc_"
      },
      "outputs": [],
      "source": [
        "base_nfe = base_nfe.groupby([base_nfe.iloc[:,18].name, base_nfe.iloc[:,2].name]).agg({base_nfe.iloc[:,0].name: pd.Series.nunique}).reset_index(0)"
      ]
    },
    {
      "cell_type": "code",
      "execution_count": 312,
      "metadata": {
        "id": "vHovsVXugjQ3"
      },
      "outputs": [],
      "source": [
        "base_nfe = base_nfe.reset_index(0)"
      ]
    },
    {
      "cell_type": "code",
      "execution_count": 313,
      "metadata": {
        "id": "OYiIsf1Yg2cW"
      },
      "outputs": [],
      "source": [
        "base_nfe = base_nfe.groupby(base_nfe.iloc[:,1].name).agg({base_nfe.iloc[:,2].name: 'median'}).reset_index(0)"
      ]
    },
    {
      "cell_type": "code",
      "execution_count": 314,
      "metadata": {
        "id": "B_AQMgrEg_t6"
      },
      "outputs": [],
      "source": [
        "base_test = base_test.set_index(base_nfe.iloc[:,0].name).join(base_nfe.set_index(base_nfe.iloc[:,0].name)).reset_index(0)"
      ]
    },
    {
      "cell_type": "code",
      "execution_count": 315,
      "metadata": {
        "id": "aRwvQuW1j_eK"
      },
      "outputs": [],
      "source": [
        "base_test = base_test.rename(columns={base_test.iloc[:,11].name: \"installment median\"})"
      ]
    },
    {
      "cell_type": "code",
      "execution_count": 316,
      "metadata": {
        "id": "_qPNV2z1keXA"
      },
      "outputs": [],
      "source": [
        "base_test.fillna(base_test[base_test.iloc[:,11].name].median(), inplace=True)"
      ]
    },
    {
      "cell_type": "code",
      "execution_count": 317,
      "metadata": {
        "id": "ttSlrYP3Sui6"
      },
      "outputs": [],
      "source": [
        "base_test['t'] = base_test.iloc[:,4] + base_test.iloc[:,5] + base_test.iloc[:,6]"
      ]
    },
    {
      "cell_type": "code",
      "execution_count": 318,
      "metadata": {
        "id": "uOPZhLqdvh8_"
      },
      "outputs": [],
      "source": [
        "base_test['pnc'] = base_test.iloc[:,7] / base_test.iloc[:,12]"
      ]
    },
    {
      "cell_type": "markdown",
      "metadata": {
        "id": "kNX_zPfz0Vdj"
      },
      "source": [
        "#### Create scoring"
      ]
    },
    {
      "cell_type": "code",
      "execution_count": 319,
      "metadata": {
        "id": "dALQLs8K0fQN"
      },
      "outputs": [],
      "source": [
        "base_test['score_f'] = np.where(\n",
        "    base_test.iloc[:,6] <= 5,(1000*base_test.iloc[:,6])/5,\n",
        "    np.where(\n",
        "        (base_test.iloc[:,6] > 5) & (base_test.iloc[:,6] <= 18),(3000*base_test.iloc[:,6])/18,\n",
        "    np.where(\n",
        "        (base_test.iloc[:,6] > 18) & (base_test.iloc[:,6] <= 30), (4999*base_test.iloc[:,6])/30,\n",
        "        5000\n",
        "    )\n",
        "        )\n",
        "    )"
      ]
    },
    {
      "cell_type": "code",
      "execution_count": 320,
      "metadata": {
        "id": "DPGs9_JC3lYz"
      },
      "outputs": [],
      "source": [
        "base_test['score_a'] = np.where(\n",
        "    base_test.iloc[:,4] <= 40,(600*base_test.iloc[:,4])/40,\n",
        "    np.where(\n",
        "        (base_test.iloc[:,4] > 40) & (base_test.iloc[:,4] <= 199),(1800*base_test.iloc[:,4])/199,\n",
        "    np.where(\n",
        "        (base_test.iloc[:,4] > 199) & (base_test.iloc[:,4] <= 484), (2999*base_test.iloc[:,4])/484,\n",
        "        3000\n",
        "    )\n",
        "        )\n",
        "    )"
      ]
    },
    {
      "cell_type": "code",
      "execution_count": 321,
      "metadata": {
        "id": "fTJG9xOw5Q4q"
      },
      "outputs": [],
      "source": [
        "base_test['score_t'] = np.where(\n",
        "    base_test.iloc[:,12] <= 40,(400*base_test.iloc[:,12])/40,\n",
        "    np.where(\n",
        "        (base_test.iloc[:,12] > 40) & (base_test.iloc[:,12] <= 100),(1200*base_test.iloc[:,12])/100,\n",
        "    np.where(\n",
        "        (base_test.iloc[:,12] > 100) & (base_test.iloc[:,12] <= 200), (1999*base_test.iloc[:,12])/200,\n",
        "        2000\n",
        "    )\n",
        "        )\n",
        "    )"
      ]
    },
    {
      "cell_type": "code",
      "execution_count": 322,
      "metadata": {
        "id": "62Kl2DL07s0P"
      },
      "outputs": [],
      "source": [
        "base_test['score_c'] = np.where(\n",
        "    base_test.iloc[:,5] <= 13,(200*base_test.iloc[:,5])/13,\n",
        "    np.where(\n",
        "        (base_test.iloc[:,5] > 13) & (base_test.iloc[:,5] <= 35),(600*base_test.iloc[:,5])/35,\n",
        "    np.where(\n",
        "        (base_test.iloc[:,5] > 35) & (base_test.iloc[:,5] <= 65), (999*base_test.iloc[:,5])/65,\n",
        "        1000\n",
        "    )\n",
        "        )\n",
        "    )"
      ]
    },
    {
      "cell_type": "code",
      "source": [
        "base_test.iloc[:,17]"
      ],
      "metadata": {
        "colab": {
          "base_uri": "https://localhost:8080/",
          "height": 458
        },
        "id": "And1oz-pwy38",
        "outputId": "c76a6a39-ebfb-491a-c18c-94e79b0bb34c"
      },
      "execution_count": 323,
      "outputs": [
        {
          "output_type": "execute_result",
          "data": {
            "text/plain": [
              "0       0.000000\n",
              "1       0.000000\n",
              "2      30.769231\n",
              "3       0.000000\n",
              "4       0.000000\n",
              "         ...    \n",
              "604     0.000000\n",
              "605     0.000000\n",
              "606     0.000000\n",
              "607     0.000000\n",
              "608     0.000000\n",
              "Name: score_c, Length: 609, dtype: float64"
            ],
            "text/html": [
              "<div>\n",
              "<style scoped>\n",
              "    .dataframe tbody tr th:only-of-type {\n",
              "        vertical-align: middle;\n",
              "    }\n",
              "\n",
              "    .dataframe tbody tr th {\n",
              "        vertical-align: top;\n",
              "    }\n",
              "\n",
              "    .dataframe thead th {\n",
              "        text-align: right;\n",
              "    }\n",
              "</style>\n",
              "<table border=\"1\" class=\"dataframe\">\n",
              "  <thead>\n",
              "    <tr style=\"text-align: right;\">\n",
              "      <th></th>\n",
              "      <th>score_c</th>\n",
              "    </tr>\n",
              "  </thead>\n",
              "  <tbody>\n",
              "    <tr>\n",
              "      <th>0</th>\n",
              "      <td>0.000000</td>\n",
              "    </tr>\n",
              "    <tr>\n",
              "      <th>1</th>\n",
              "      <td>0.000000</td>\n",
              "    </tr>\n",
              "    <tr>\n",
              "      <th>2</th>\n",
              "      <td>30.769231</td>\n",
              "    </tr>\n",
              "    <tr>\n",
              "      <th>3</th>\n",
              "      <td>0.000000</td>\n",
              "    </tr>\n",
              "    <tr>\n",
              "      <th>4</th>\n",
              "      <td>0.000000</td>\n",
              "    </tr>\n",
              "    <tr>\n",
              "      <th>...</th>\n",
              "      <td>...</td>\n",
              "    </tr>\n",
              "    <tr>\n",
              "      <th>604</th>\n",
              "      <td>0.000000</td>\n",
              "    </tr>\n",
              "    <tr>\n",
              "      <th>605</th>\n",
              "      <td>0.000000</td>\n",
              "    </tr>\n",
              "    <tr>\n",
              "      <th>606</th>\n",
              "      <td>0.000000</td>\n",
              "    </tr>\n",
              "    <tr>\n",
              "      <th>607</th>\n",
              "      <td>0.000000</td>\n",
              "    </tr>\n",
              "    <tr>\n",
              "      <th>608</th>\n",
              "      <td>0.000000</td>\n",
              "    </tr>\n",
              "  </tbody>\n",
              "</table>\n",
              "<p>609 rows × 1 columns</p>\n",
              "</div><br><label><b>dtype:</b> float64</label>"
            ]
          },
          "metadata": {},
          "execution_count": 323
        }
      ]
    },
    {
      "cell_type": "code",
      "execution_count": 324,
      "metadata": {
        "id": "LGlPl62x8wnV"
      },
      "outputs": [],
      "source": [
        "base_test['s'] = base_test.iloc[:,14] + base_test.iloc[:,15] + base_test.iloc[:,16] - base_test.iloc[:,17]"
      ]
    },
    {
      "cell_type": "markdown",
      "metadata": {
        "id": "XgimSfYWJPou"
      },
      "source": [
        "# IA - MODEL Nº1\n"
      ]
    },
    {
      "cell_type": "code",
      "execution_count": 336,
      "metadata": {
        "id": "cBezDNJR_PLf"
      },
      "outputs": [],
      "source": [
        "from sklearn.model_selection import train_test_split\n",
        "from sklearn.model_selection import train_test_split, cross_val_score # Utilizado para separar dados de treino e teste\n",
        "from sklearn.preprocessing import StandardScaler # Utilizado para fazer a normalização dos dados\n",
        "from sklearn.preprocessing import MinMaxScaler # Utilizado para fazer a normalização dos dados\n",
        "from sklearn.preprocessing import LabelEncoder # Utilizado para fazer o OneHotEncoding\n",
        "from sklearn.linear_model import LinearRegression # Algoritmo de Regressão Linear\n",
        "from sklearn.metrics import r2_score, accuracy_score,confusion_matrix, ConfusionMatrixDisplay # Métricas de avaliação do models\n",
        "from sklearn.tree import DecisionTreeClassifier\n",
        "import graphviz\n",
        "from sklearn import tree"
      ]
    },
    {
      "cell_type": "code",
      "execution_count": 337,
      "metadata": {
        "id": "mh3RDXIcZRVy"
      },
      "outputs": [],
      "source": [
        "# Separate data for use\n",
        "base_model = base_test[[base_test.iloc[:,1].name,\tbase_test.iloc[:,2].name,\tbase_test.iloc[:,3].name,base_test.iloc[:,4].name,\tbase_test.iloc[:,5].name,\tbase_test.iloc[:,6].name,\tbase_test.iloc[:,7].name,\tbase_test.iloc[:,11].name,\tbase_test.iloc[:,12].name,base_test.iloc[:,18].name]]\n",
        "base_model = base_model[base_test.iloc[:,8] <= 1000]\n"
      ]
    },
    {
      "cell_type": "code",
      "execution_count": 338,
      "metadata": {
        "colab": {
          "base_uri": "https://localhost:8080/",
          "height": 300
        },
        "id": "yYXxiMzJ3XX-",
        "outputId": "d66d02f6-1a6f-45c5-fa27-461bab0a2551"
      },
      "outputs": [
        {
          "output_type": "execute_result",
          "data": {
            "text/plain": [
              "                 a   kind_goods  kind_services       active    canceled  \\\n",
              "count   608.000000   608.000000     608.000000   608.000000  608.000000   \n",
              "mean     57.821615    47.429276       1.449013    46.241776    1.845395   \n",
              "std     411.391425   121.659848      14.253785   120.329212   10.442079   \n",
              "min    -168.700000     0.000000       0.000000     0.000000    0.000000   \n",
              "25%      12.000000     2.000000       0.000000     2.000000    0.000000   \n",
              "50%      26.000000    10.000000       0.000000     9.000000    0.000000   \n",
              "75%      42.466667    38.000000       0.000000    36.000000    0.000000   \n",
              "max    9473.000000  1375.000000     312.000000  1375.000000  125.000000   \n",
              "\n",
              "         finished  not canceled  installment median            t            s  \n",
              "count  608.000000    608.000000          608.000000   608.000000   608.000000  \n",
              "mean     0.791118     47.032895            1.926809    48.878289   836.270755  \n",
              "std      3.969503    121.579835            1.833467   122.063525  1340.600936  \n",
              "min      0.000000      0.000000            1.000000     1.000000  -250.000000  \n",
              "25%      0.000000      2.000000            1.000000     3.000000    75.000000  \n",
              "50%      0.000000      9.000000            1.000000    10.000000   250.000000  \n",
              "75%      0.000000     36.250000            2.500000    39.250000   931.251256  \n",
              "max     68.000000   1375.000000           22.500000  1375.000000  9918.448347  "
            ],
            "text/html": [
              "\n",
              "  <div id=\"df-5a53e531-e1dc-4568-9ace-63bac15877e0\" class=\"colab-df-container\">\n",
              "    <div>\n",
              "<style scoped>\n",
              "    .dataframe tbody tr th:only-of-type {\n",
              "        vertical-align: middle;\n",
              "    }\n",
              "\n",
              "    .dataframe tbody tr th {\n",
              "        vertical-align: top;\n",
              "    }\n",
              "\n",
              "    .dataframe thead th {\n",
              "        text-align: right;\n",
              "    }\n",
              "</style>\n",
              "<table border=\"1\" class=\"dataframe\">\n",
              "  <thead>\n",
              "    <tr style=\"text-align: right;\">\n",
              "      <th></th>\n",
              "      <th>a</th>\n",
              "      <th>kind_goods</th>\n",
              "      <th>kind_services</th>\n",
              "      <th>active</th>\n",
              "      <th>canceled</th>\n",
              "      <th>finished</th>\n",
              "      <th>not canceled</th>\n",
              "      <th>installment median</th>\n",
              "      <th>t</th>\n",
              "      <th>s</th>\n",
              "    </tr>\n",
              "  </thead>\n",
              "  <tbody>\n",
              "    <tr>\n",
              "      <th>count</th>\n",
              "      <td>608.000000</td>\n",
              "      <td>608.000000</td>\n",
              "      <td>608.000000</td>\n",
              "      <td>608.000000</td>\n",
              "      <td>608.000000</td>\n",
              "      <td>608.000000</td>\n",
              "      <td>608.000000</td>\n",
              "      <td>608.000000</td>\n",
              "      <td>608.000000</td>\n",
              "      <td>608.000000</td>\n",
              "    </tr>\n",
              "    <tr>\n",
              "      <th>mean</th>\n",
              "      <td>57.821615</td>\n",
              "      <td>47.429276</td>\n",
              "      <td>1.449013</td>\n",
              "      <td>46.241776</td>\n",
              "      <td>1.845395</td>\n",
              "      <td>0.791118</td>\n",
              "      <td>47.032895</td>\n",
              "      <td>1.926809</td>\n",
              "      <td>48.878289</td>\n",
              "      <td>836.270755</td>\n",
              "    </tr>\n",
              "    <tr>\n",
              "      <th>std</th>\n",
              "      <td>411.391425</td>\n",
              "      <td>121.659848</td>\n",
              "      <td>14.253785</td>\n",
              "      <td>120.329212</td>\n",
              "      <td>10.442079</td>\n",
              "      <td>3.969503</td>\n",
              "      <td>121.579835</td>\n",
              "      <td>1.833467</td>\n",
              "      <td>122.063525</td>\n",
              "      <td>1340.600936</td>\n",
              "    </tr>\n",
              "    <tr>\n",
              "      <th>min</th>\n",
              "      <td>-168.700000</td>\n",
              "      <td>0.000000</td>\n",
              "      <td>0.000000</td>\n",
              "      <td>0.000000</td>\n",
              "      <td>0.000000</td>\n",
              "      <td>0.000000</td>\n",
              "      <td>0.000000</td>\n",
              "      <td>1.000000</td>\n",
              "      <td>1.000000</td>\n",
              "      <td>-250.000000</td>\n",
              "    </tr>\n",
              "    <tr>\n",
              "      <th>25%</th>\n",
              "      <td>12.000000</td>\n",
              "      <td>2.000000</td>\n",
              "      <td>0.000000</td>\n",
              "      <td>2.000000</td>\n",
              "      <td>0.000000</td>\n",
              "      <td>0.000000</td>\n",
              "      <td>2.000000</td>\n",
              "      <td>1.000000</td>\n",
              "      <td>3.000000</td>\n",
              "      <td>75.000000</td>\n",
              "    </tr>\n",
              "    <tr>\n",
              "      <th>50%</th>\n",
              "      <td>26.000000</td>\n",
              "      <td>10.000000</td>\n",
              "      <td>0.000000</td>\n",
              "      <td>9.000000</td>\n",
              "      <td>0.000000</td>\n",
              "      <td>0.000000</td>\n",
              "      <td>9.000000</td>\n",
              "      <td>1.000000</td>\n",
              "      <td>10.000000</td>\n",
              "      <td>250.000000</td>\n",
              "    </tr>\n",
              "    <tr>\n",
              "      <th>75%</th>\n",
              "      <td>42.466667</td>\n",
              "      <td>38.000000</td>\n",
              "      <td>0.000000</td>\n",
              "      <td>36.000000</td>\n",
              "      <td>0.000000</td>\n",
              "      <td>0.000000</td>\n",
              "      <td>36.250000</td>\n",
              "      <td>2.500000</td>\n",
              "      <td>39.250000</td>\n",
              "      <td>931.251256</td>\n",
              "    </tr>\n",
              "    <tr>\n",
              "      <th>max</th>\n",
              "      <td>9473.000000</td>\n",
              "      <td>1375.000000</td>\n",
              "      <td>312.000000</td>\n",
              "      <td>1375.000000</td>\n",
              "      <td>125.000000</td>\n",
              "      <td>68.000000</td>\n",
              "      <td>1375.000000</td>\n",
              "      <td>22.500000</td>\n",
              "      <td>1375.000000</td>\n",
              "      <td>9918.448347</td>\n",
              "    </tr>\n",
              "  </tbody>\n",
              "</table>\n",
              "</div>\n",
              "    <div class=\"colab-df-buttons\">\n",
              "\n",
              "  <div class=\"colab-df-container\">\n",
              "    <button class=\"colab-df-convert\" onclick=\"convertToInteractive('df-5a53e531-e1dc-4568-9ace-63bac15877e0')\"\n",
              "            title=\"Convert this dataframe to an interactive table.\"\n",
              "            style=\"display:none;\">\n",
              "\n",
              "  <svg xmlns=\"http://www.w3.org/2000/svg\" height=\"24px\" viewBox=\"0 -960 960 960\">\n",
              "    <path d=\"M120-120v-720h720v720H120Zm60-500h600v-160H180v160Zm220 220h160v-160H400v160Zm0 220h160v-160H400v160ZM180-400h160v-160H180v160Zm440 0h160v-160H620v160ZM180-180h160v-160H180v160Zm440 0h160v-160H620v160Z\"/>\n",
              "  </svg>\n",
              "    </button>\n",
              "\n",
              "  <style>\n",
              "    .colab-df-container {\n",
              "      display:flex;\n",
              "      gap: 12px;\n",
              "    }\n",
              "\n",
              "    .colab-df-convert {\n",
              "      background-color: #E8F0FE;\n",
              "      border: none;\n",
              "      border-radius: 50%;\n",
              "      cursor: pointer;\n",
              "      display: none;\n",
              "      fill: #1967D2;\n",
              "      height: 32px;\n",
              "      padding: 0 0 0 0;\n",
              "      width: 32px;\n",
              "    }\n",
              "\n",
              "    .colab-df-convert:hover {\n",
              "      background-color: #E2EBFA;\n",
              "      box-shadow: 0px 1px 2px rgba(60, 64, 67, 0.3), 0px 1px 3px 1px rgba(60, 64, 67, 0.15);\n",
              "      fill: #174EA6;\n",
              "    }\n",
              "\n",
              "    .colab-df-buttons div {\n",
              "      margin-bottom: 4px;\n",
              "    }\n",
              "\n",
              "    [theme=dark] .colab-df-convert {\n",
              "      background-color: #3B4455;\n",
              "      fill: #D2E3FC;\n",
              "    }\n",
              "\n",
              "    [theme=dark] .colab-df-convert:hover {\n",
              "      background-color: #434B5C;\n",
              "      box-shadow: 0px 1px 3px 1px rgba(0, 0, 0, 0.15);\n",
              "      filter: drop-shadow(0px 1px 2px rgba(0, 0, 0, 0.3));\n",
              "      fill: #FFFFFF;\n",
              "    }\n",
              "  </style>\n",
              "\n",
              "    <script>\n",
              "      const buttonEl =\n",
              "        document.querySelector('#df-5a53e531-e1dc-4568-9ace-63bac15877e0 button.colab-df-convert');\n",
              "      buttonEl.style.display =\n",
              "        google.colab.kernel.accessAllowed ? 'block' : 'none';\n",
              "\n",
              "      async function convertToInteractive(key) {\n",
              "        const element = document.querySelector('#df-5a53e531-e1dc-4568-9ace-63bac15877e0');\n",
              "        const dataTable =\n",
              "          await google.colab.kernel.invokeFunction('convertToInteractive',\n",
              "                                                    [key], {});\n",
              "        if (!dataTable) return;\n",
              "\n",
              "        const docLinkHtml = 'Like what you see? Visit the ' +\n",
              "          '<a target=\"_blank\" href=https://colab.research.google.com/notebooks/data_table.ipynb>data table notebook</a>'\n",
              "          + ' to learn more about interactive tables.';\n",
              "        element.innerHTML = '';\n",
              "        dataTable['output_type'] = 'display_data';\n",
              "        await google.colab.output.renderOutput(dataTable, element);\n",
              "        const docLink = document.createElement('div');\n",
              "        docLink.innerHTML = docLinkHtml;\n",
              "        element.appendChild(docLink);\n",
              "      }\n",
              "    </script>\n",
              "  </div>\n",
              "\n",
              "\n",
              "<div id=\"df-4d574c41-3eba-473b-ade2-1768ac4b56f0\">\n",
              "  <button class=\"colab-df-quickchart\" onclick=\"quickchart('df-4d574c41-3eba-473b-ade2-1768ac4b56f0')\"\n",
              "            title=\"Suggest charts\"\n",
              "            style=\"display:none;\">\n",
              "\n",
              "<svg xmlns=\"http://www.w3.org/2000/svg\" height=\"24px\"viewBox=\"0 0 24 24\"\n",
              "     width=\"24px\">\n",
              "    <g>\n",
              "        <path d=\"M19 3H5c-1.1 0-2 .9-2 2v14c0 1.1.9 2 2 2h14c1.1 0 2-.9 2-2V5c0-1.1-.9-2-2-2zM9 17H7v-7h2v7zm4 0h-2V7h2v10zm4 0h-2v-4h2v4z\"/>\n",
              "    </g>\n",
              "</svg>\n",
              "  </button>\n",
              "\n",
              "<style>\n",
              "  .colab-df-quickchart {\n",
              "      --bg-color: #E8F0FE;\n",
              "      --fill-color: #1967D2;\n",
              "      --hover-bg-color: #E2EBFA;\n",
              "      --hover-fill-color: #174EA6;\n",
              "      --disabled-fill-color: #AAA;\n",
              "      --disabled-bg-color: #DDD;\n",
              "  }\n",
              "\n",
              "  [theme=dark] .colab-df-quickchart {\n",
              "      --bg-color: #3B4455;\n",
              "      --fill-color: #D2E3FC;\n",
              "      --hover-bg-color: #434B5C;\n",
              "      --hover-fill-color: #FFFFFF;\n",
              "      --disabled-bg-color: #3B4455;\n",
              "      --disabled-fill-color: #666;\n",
              "  }\n",
              "\n",
              "  .colab-df-quickchart {\n",
              "    background-color: var(--bg-color);\n",
              "    border: none;\n",
              "    border-radius: 50%;\n",
              "    cursor: pointer;\n",
              "    display: none;\n",
              "    fill: var(--fill-color);\n",
              "    height: 32px;\n",
              "    padding: 0;\n",
              "    width: 32px;\n",
              "  }\n",
              "\n",
              "  .colab-df-quickchart:hover {\n",
              "    background-color: var(--hover-bg-color);\n",
              "    box-shadow: 0 1px 2px rgba(60, 64, 67, 0.3), 0 1px 3px 1px rgba(60, 64, 67, 0.15);\n",
              "    fill: var(--button-hover-fill-color);\n",
              "  }\n",
              "\n",
              "  .colab-df-quickchart-complete:disabled,\n",
              "  .colab-df-quickchart-complete:disabled:hover {\n",
              "    background-color: var(--disabled-bg-color);\n",
              "    fill: var(--disabled-fill-color);\n",
              "    box-shadow: none;\n",
              "  }\n",
              "\n",
              "  .colab-df-spinner {\n",
              "    border: 2px solid var(--fill-color);\n",
              "    border-color: transparent;\n",
              "    border-bottom-color: var(--fill-color);\n",
              "    animation:\n",
              "      spin 1s steps(1) infinite;\n",
              "  }\n",
              "\n",
              "  @keyframes spin {\n",
              "    0% {\n",
              "      border-color: transparent;\n",
              "      border-bottom-color: var(--fill-color);\n",
              "      border-left-color: var(--fill-color);\n",
              "    }\n",
              "    20% {\n",
              "      border-color: transparent;\n",
              "      border-left-color: var(--fill-color);\n",
              "      border-top-color: var(--fill-color);\n",
              "    }\n",
              "    30% {\n",
              "      border-color: transparent;\n",
              "      border-left-color: var(--fill-color);\n",
              "      border-top-color: var(--fill-color);\n",
              "      border-right-color: var(--fill-color);\n",
              "    }\n",
              "    40% {\n",
              "      border-color: transparent;\n",
              "      border-right-color: var(--fill-color);\n",
              "      border-top-color: var(--fill-color);\n",
              "    }\n",
              "    60% {\n",
              "      border-color: transparent;\n",
              "      border-right-color: var(--fill-color);\n",
              "    }\n",
              "    80% {\n",
              "      border-color: transparent;\n",
              "      border-right-color: var(--fill-color);\n",
              "      border-bottom-color: var(--fill-color);\n",
              "    }\n",
              "    90% {\n",
              "      border-color: transparent;\n",
              "      border-bottom-color: var(--fill-color);\n",
              "    }\n",
              "  }\n",
              "</style>\n",
              "\n",
              "  <script>\n",
              "    async function quickchart(key) {\n",
              "      const quickchartButtonEl =\n",
              "        document.querySelector('#' + key + ' button');\n",
              "      quickchartButtonEl.disabled = true;  // To prevent multiple clicks.\n",
              "      quickchartButtonEl.classList.add('colab-df-spinner');\n",
              "      try {\n",
              "        const charts = await google.colab.kernel.invokeFunction(\n",
              "            'suggestCharts', [key], {});\n",
              "      } catch (error) {\n",
              "        console.error('Error during call to suggestCharts:', error);\n",
              "      }\n",
              "      quickchartButtonEl.classList.remove('colab-df-spinner');\n",
              "      quickchartButtonEl.classList.add('colab-df-quickchart-complete');\n",
              "    }\n",
              "    (() => {\n",
              "      let quickchartButtonEl =\n",
              "        document.querySelector('#df-4d574c41-3eba-473b-ade2-1768ac4b56f0 button');\n",
              "      quickchartButtonEl.style.display =\n",
              "        google.colab.kernel.accessAllowed ? 'block' : 'none';\n",
              "    })();\n",
              "  </script>\n",
              "</div>\n",
              "\n",
              "    </div>\n",
              "  </div>\n"
            ],
            "application/vnd.google.colaboratory.intrinsic+json": {
              "type": "dataframe",
              "summary": "{\n  \"name\": \"base_model\",\n  \"rows\": 8,\n  \"fields\": [\n    {\n      \"column\": \"a\",\n      \"properties\": {\n        \"dtype\": \"number\",\n        \"std\": 3308.6344815912007,\n        \"min\": -168.7,\n        \"max\": 9473.0,\n        \"num_unique_values\": 8,\n        \"samples\": [\n          57.82161487034196,\n          26.0,\n          608.0\n        ],\n        \"semantic_type\": \"\",\n        \"description\": \"\"\n      }\n    },\n    {\n      \"column\": \"kind_goods\",\n      \"properties\": {\n        \"dtype\": \"number\",\n        \"std\": 488.83799405515157,\n        \"min\": 0.0,\n        \"max\": 1375.0,\n        \"num_unique_values\": 8,\n        \"samples\": [\n          47.42927631578947,\n          10.0,\n          608.0\n        ],\n        \"semantic_type\": \"\",\n        \"description\": \"\"\n      }\n    },\n    {\n      \"column\": \"kind_services\",\n      \"properties\": {\n        \"dtype\": \"number\",\n        \"std\": 226.0754628373789,\n        \"min\": 0.0,\n        \"max\": 608.0,\n        \"num_unique_values\": 5,\n        \"samples\": [\n          1.449013157894737,\n          312.0,\n          14.25378468818803\n        ],\n        \"semantic_type\": \"\",\n        \"description\": \"\"\n      }\n    },\n    {\n      \"column\": \"active\",\n      \"properties\": {\n        \"dtype\": \"number\",\n        \"std\": 489.19349190501,\n        \"min\": 0.0,\n        \"max\": 1375.0,\n        \"num_unique_values\": 8,\n        \"samples\": [\n          46.24177631578947,\n          9.0,\n          608.0\n        ],\n        \"semantic_type\": \"\",\n        \"description\": \"\"\n      }\n    },\n    {\n      \"column\": \"canceled\",\n      \"properties\": {\n        \"dtype\": \"number\",\n        \"std\": 212.45832034469458,\n        \"min\": 0.0,\n        \"max\": 608.0,\n        \"num_unique_values\": 5,\n        \"samples\": [\n          1.8453947368421053,\n          125.0,\n          10.442078976572953\n        ],\n        \"semantic_type\": \"\",\n        \"description\": \"\"\n      }\n    },\n    {\n      \"column\": \"finished\",\n      \"properties\": {\n        \"dtype\": \"number\",\n        \"std\": 212.59451841869011,\n        \"min\": 0.0,\n        \"max\": 608.0,\n        \"num_unique_values\": 5,\n        \"samples\": [\n          0.7911184210526315,\n          68.0,\n          3.969503191077753\n        ],\n        \"semantic_type\": \"\",\n        \"description\": \"\"\n      }\n    },\n    {\n      \"column\": \"not canceled\",\n      \"properties\": {\n        \"dtype\": \"number\",\n        \"std\": 489.06720966363855,\n        \"min\": 0.0,\n        \"max\": 1375.0,\n        \"num_unique_values\": 8,\n        \"samples\": [\n          47.0328947368421,\n          9.0,\n          608.0\n        ],\n        \"semantic_type\": \"\",\n        \"description\": \"\"\n      }\n    },\n    {\n      \"column\": \"installment median\",\n      \"properties\": {\n        \"dtype\": \"number\",\n        \"std\": 213.48299455314012,\n        \"min\": 1.0,\n        \"max\": 608.0,\n        \"num_unique_values\": 6,\n        \"samples\": [\n          608.0,\n          1.9268092105263157,\n          22.5\n        ],\n        \"semantic_type\": \"\",\n        \"description\": \"\"\n      }\n    },\n    {\n      \"column\": \"t\",\n      \"properties\": {\n        \"dtype\": \"number\",\n        \"std\": 488.47666863674823,\n        \"min\": 1.0,\n        \"max\": 1375.0,\n        \"num_unique_values\": 8,\n        \"samples\": [\n          48.87828947368421,\n          10.0,\n          608.0\n        ],\n        \"semantic_type\": \"\",\n        \"description\": \"\"\n      }\n    },\n    {\n      \"column\": \"s\",\n      \"properties\": {\n        \"dtype\": \"number\",\n        \"std\": 3354.009371035884,\n        \"min\": -250.0,\n        \"max\": 9918.448347107438,\n        \"num_unique_values\": 8,\n        \"samples\": [\n          836.2707550852771,\n          250.0,\n          608.0\n        ],\n        \"semantic_type\": \"\",\n        \"description\": \"\"\n      }\n    }\n  ]\n}"
            }
          },
          "metadata": {},
          "execution_count": 338
        }
      ],
      "source": [
        "base_model.describe()"
      ]
    },
    {
      "cell_type": "code",
      "execution_count": 339,
      "metadata": {
        "id": "85r1QT9XbD02"
      },
      "outputs": [],
      "source": [
        "X = base_model.loc[ : , base_model.columns != base_model.iloc[:,9].name]\n",
        "y = base_model.iloc[:,9]"
      ]
    },
    {
      "cell_type": "code",
      "execution_count": 340,
      "metadata": {
        "id": "bEKRUud7cPTL"
      },
      "outputs": [],
      "source": [
        "X_train, X_test, y_train, y_test = train_test_split(X, y, test_size=0.2, random_state=1)"
      ]
    },
    {
      "cell_type": "code",
      "execution_count": 341,
      "metadata": {
        "id": "VCRKKwUJgW0E"
      },
      "outputs": [],
      "source": [
        "# Normalization\n",
        "sc = MinMaxScaler()\n",
        "X_train = sc.fit_transform(X_train)\n",
        "X_test = sc.transform(X_test)"
      ]
    },
    {
      "cell_type": "code",
      "source": [
        "X_train"
      ],
      "metadata": {
        "colab": {
          "base_uri": "https://localhost:8080/"
        },
        "id": "aDpGmYCMmNT4",
        "outputId": "026b4fcf-cb90-4e7e-dd0d-dd27f17a9529"
      },
      "execution_count": 342,
      "outputs": [
        {
          "output_type": "execute_result",
          "data": {
            "text/plain": [
              "array([[0.05445966, 0.00727273, 0.        , ..., 0.00727273, 0.        ,\n",
              "        0.00655022],\n",
              "       [0.0591003 , 0.00290909, 0.        , ..., 0.00290909, 0.04651163,\n",
              "        0.00218341],\n",
              "       [0.05638731, 0.00581818, 0.        , ..., 0.00581818, 0.02325581,\n",
              "        0.00509461],\n",
              "       ...,\n",
              "       [0.05428164, 0.056     , 0.        , ..., 0.056     , 0.        ,\n",
              "        0.05531295],\n",
              "       [0.0587462 , 0.14472727, 0.        , ..., 0.11854545, 0.04651163,\n",
              "        0.1441048 ],\n",
              "       [0.06375835, 0.02981818, 0.        , ..., 0.02981818, 0.09302326,\n",
              "        0.02911208]])"
            ]
          },
          "metadata": {},
          "execution_count": 342
        }
      ]
    },
    {
      "cell_type": "code",
      "execution_count": 343,
      "metadata": {
        "id": "f3td0telgeeD"
      },
      "outputs": [],
      "source": [
        "# Treina o modelo\n",
        "model = LinearRegression()\n",
        "model = model.fit(X_train, y_train)"
      ]
    },
    {
      "cell_type": "code",
      "execution_count": 344,
      "metadata": {
        "colab": {
          "base_uri": "https://localhost:8080/"
        },
        "id": "d9bRjerFmPJx",
        "outputId": "93471be3-3978-4cb1-c390-f28fae6a602b"
      },
      "outputs": [
        {
          "output_type": "execute_result",
          "data": {
            "text/plain": [
              "0.7587872477117485"
            ]
          },
          "metadata": {},
          "execution_count": 344
        }
      ],
      "source": [
        "# Accuracy\n",
        "r2_score(y_test, model.fit(X_train, y_train).predict(X_test))"
      ]
    },
    {
      "cell_type": "code",
      "execution_count": 345,
      "metadata": {
        "colab": {
          "base_uri": "https://localhost:8080/"
        },
        "id": "a8qvAdNAn1KH",
        "outputId": "ab0a4b1a-9073-49a6-c7f9-fc1a64afebdd"
      },
      "outputs": [
        {
          "output_type": "stream",
          "name": "stdout",
          "text": [
            "MAE: 430.2382487137543\n",
            "MSE: 564197.1086312056\n",
            "RMSE: 751.1305536530954\n",
            "R²: 0.7587872477117485\n"
          ]
        }
      ],
      "source": [
        "from sklearn.metrics import mean_absolute_error, mean_squared_error, r2_score\n",
        "# Previsões\n",
        "y_pred = model.predict(X_test)\n",
        "\n",
        "# Cálculo das métricas\n",
        "mae = mean_absolute_error(y_test, y_pred)\n",
        "mse = mean_squared_error(y_test, y_pred)\n",
        "rmse = np.sqrt(mse)\n",
        "r2 = r2_score(y_test, y_pred)\n",
        "\n",
        "# Exibição dos resultados\n",
        "print(f'MAE: {mae}')\n",
        "print(f'MSE: {mse}')\n",
        "print(f'RMSE: {rmse}')\n",
        "print(f'R²: {r2}')"
      ]
    },
    {
      "cell_type": "code",
      "execution_count": 346,
      "metadata": {
        "colab": {
          "base_uri": "https://localhost:8080/"
        },
        "id": "MpO-TrrTqWLW",
        "outputId": "46c88782-93c7-4c31-eafd-0db645d6aa61"
      },
      "outputs": [
        {
          "output_type": "stream",
          "name": "stdout",
          "text": [
            "Score do endossante: [15783.26784349]\n"
          ]
        },
        {
          "output_type": "stream",
          "name": "stderr",
          "text": [
            "/usr/local/lib/python3.10/dist-packages/sklearn/base.py:493: UserWarning: X does not have valid feature names, but MinMaxScaler was fitted with feature names\n",
            "  warnings.warn(\n"
          ]
        }
      ],
      "source": [
        "# Try to predict score\n",
        "v1 = 0\n",
        "v2 = 520\n",
        "v3 = 19\n",
        "v4 = 471\n",
        "v5 = 0\n",
        "v6 = 68\n",
        "v7 = 539\n",
        "v8 = 0\n",
        "v9 = 539\n",
        "\n",
        "new_test = [v1,v2,v3,v4,v5,v6,v7,v8,v9]\n",
        "\n",
        "\n",
        "X = np.array(new_test).reshape(1,-1)\n",
        "X = sc.transform(X)\n",
        "print(\"Score do endossante:\", model.predict(X))"
      ]
    },
    {
      "cell_type": "code",
      "execution_count": 347,
      "metadata": {
        "colab": {
          "base_uri": "https://localhost:8080/"
        },
        "id": "igpBiodguWZN",
        "outputId": "b54c8931-255e-40ec-98a2-7a5f4af1c41c"
      },
      "outputs": [
        {
          "output_type": "stream",
          "name": "stdout",
          "text": [
            "[  41.19053505 2329.52172654  616.95232748 2321.31436863 -404.47927044\n",
            " 4689.81556731 2413.40529249  728.99534775 2378.36416912]\n",
            "Intercepto: 338.7041803434835\n"
          ]
        }
      ],
      "source": [
        "pesos = model.coef_\n",
        "intercepto = model.intercept_\n",
        "print( pesos)\n",
        "print(\"Intercepto:\", intercepto)"
      ]
    }
  ],
  "metadata": {
    "colab": {
      "collapsed_sections": [
        "ZdxZVeXYyciv",
        "WjrQpAdgy4jP",
        "kNX_zPfz0Vdj"
      ],
      "provenance": []
    },
    "kernelspec": {
      "display_name": "Python 3",
      "name": "python3"
    },
    "language_info": {
      "name": "python"
    }
  },
  "nbformat": 4,
  "nbformat_minor": 0
}